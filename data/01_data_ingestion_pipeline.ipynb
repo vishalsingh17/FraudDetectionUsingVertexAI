{
 "cells": [
  {
   "cell_type": "code",
   "execution_count": 1,
   "id": "initial_id",
   "metadata": {
    "ExecuteTime": {
     "end_time": "2024-03-15T20:58:50.090504Z",
     "start_time": "2024-03-15T20:58:50.073894Z"
    },
    "collapsed": true
   },
   "outputs": [
    {
     "name": "stdout",
     "output_type": "stream",
     "text": [
      "c:\\Users\\Vishal\\anaconda3\\python.exe\n"
     ]
    }
   ],
   "source": [
    "import sys\n",
    "print(sys.executable)"
   ]
  },
  {
   "cell_type": "code",
   "execution_count": 17,
   "id": "18f538d0f6bdec4d",
   "metadata": {
    "ExecuteTime": {
     "end_time": "2024-03-15T20:58:50.104644Z",
     "start_time": "2024-03-15T20:58:50.085488Z"
    },
    "collapsed": false
   },
   "outputs": [],
   "source": [
    "import os\n",
    "import datetime\n",
    "import importlib\n",
    "import kfp\n",
    "from kfp import dsl, compiler\n",
    "from google.cloud import aiplatform\n",
    "from google_cloud_pipeline_components.v1.model import ModelUploadOp,ModelExportOp"
   ]
  },
  {
   "cell_type": "code",
   "execution_count": null,
   "id": "7f6bc49de67d5c31",
   "metadata": {
    "ExecuteTime": {
     "end_time": "2024-03-15T20:58:50.107140Z",
     "start_time": "2024-03-15T20:58:50.096526Z"
    },
    "collapsed": false
   },
   "outputs": [],
   "source": [
    "NOTEBOOK = 'pipeline_fraud'\n",
    "PROJECT = 'e2e-fraud-detection'\n",
    "REGION = \"us-central1\"\n",
    "BUCKET = PROJECT\n",
    "APPNAME = \"fraud_detection_app\"\n",
    "BQ_DATASET = \"fraud_dataset\"\n",
    "BQ_TABLENAME = \"tb-fraud\"\n",
    "GOOGLE_APPLICATION_CREDENTIALS = \"/Users/Vishal/Downloads/e2e-fraud-detection-debf1c9863af.json\"\n",
    "\n",
    "os.environ[\"REGION\"] = REGION\n",
    "os.environ[\"PROJECT\"] = PROJECT\n",
    "os.environ[\"BUCKET\"] = BUCKET\n",
    "os.environ[\"GOOGLE_APPLICATION_CREDENTIALS\"] = GOOGLE_APPLICATION_CREDENTIALS"
   ]
  },
  {
   "cell_type": "code",
   "execution_count": 19,
   "id": "272fe5e0d3186b11",
   "metadata": {
    "ExecuteTime": {
     "end_time": "2024-03-15T20:58:50.151912Z",
     "start_time": "2024-03-15T20:58:50.112723Z"
    },
    "collapsed": false
   },
   "outputs": [],
   "source": [
    "PIPELINE_URI = f\"gs://{BUCKET}/{APPNAME}\"\n",
    "EXPERIMENT = 'data-ingestion-pipeline'\n",
    "BQ_SOURCE = 'bigquery-public-data.ml_datasets.ulb_fraud_detection'\n",
    "# Resources for serving BigQuery Model Exports\n",
    "TF_DEPLOY_IMAGE = 'us-docker.pkg.dev/vertex-ai/prediction/tf2-cpu.2-3:latest'\n",
    "XGB_DEPLOY_IMAGE = 'us-docker.pkg.dev/vertex-ai/prediction/xgboost-cpu.0-82:latest'\n",
    "\n",
    "# Resources for serving BigQuery Model Exports\n",
    "DEPLOY_COMPUTE = 'n1-standard-4'\n",
    "\n",
    "# Model Training\n",
    "VAR_TARGET = 'Class'\n",
    "VAR_OMIT = 'transaction_id' # add more variables to the string with space delimiters\n"
   ]
  },
  {
   "cell_type": "code",
   "execution_count": null,
   "id": "248aa6e6",
   "metadata": {},
   "outputs": [],
   "source": [
    "from src import copy_table_and_return_path\n",
    "importlib.reload(copy_table_and_return_path)"
   ]
  },
  {
   "cell_type": "code",
   "execution_count": 21,
   "id": "f279c836dcd76290",
   "metadata": {
    "ExecuteTime": {
     "end_time": "2024-03-15T20:58:50.183996Z",
     "start_time": "2024-03-15T20:58:50.175203Z"
    },
    "collapsed": false
   },
   "outputs": [],
   "source": [
    "@dsl.pipeline(name = APPNAME, pipeline_root = PIPELINE_URI)\n",
    "def vertex_ai_pipeline(\n",
    "    project: str=PROJECT,\n",
    "    region: str=REGION,\n",
    "):\n",
    "    ##################################\n",
    "    data_preparing_task = copy_table_and_return_path.bq_table_prep_op(\n",
    "        project=project,\n",
    "        region=region,\n",
    "        source_bq_table_id=BQ_SOURCE,\n",
    "        out_bq_dataset_id = f\"{PROJECT}.{BQ_DATASET}\",\n",
    "    ).set_display_name('prepped-bq-table-create')"
   ]
  },
  {
   "cell_type": "code",
   "execution_count": 22,
   "id": "212fff83d8bace10",
   "metadata": {
    "ExecuteTime": {
     "end_time": "2024-03-15T20:58:50.534777Z",
     "start_time": "2024-03-15T20:58:50.182364Z"
    },
    "collapsed": false
   },
   "outputs": [],
   "source": [
    "# Create a new (local) directory to store the complied file\n",
    "DIR = f\"temp\"\n",
    "!rm -rf {DIR}\n",
    "!mkdir -p {DIR}"
   ]
  },
  {
   "cell_type": "code",
   "execution_count": 23,
   "id": "b99bbf59c71c000e",
   "metadata": {
    "ExecuteTime": {
     "end_time": "2024-03-15T20:58:50.546929Z",
     "start_time": "2024-03-15T20:58:50.537298Z"
    },
    "collapsed": false
   },
   "outputs": [],
   "source": [
    "compiled_package = f\"{DIR}/compiled_pipeline_package.json\"\n",
    "\n",
    "compiler.Compiler().compile(\n",
    "    pipeline_func = vertex_ai_pipeline,\n",
    "    package_path = compiled_package\n",
    ")"
   ]
  },
  {
   "cell_type": "code",
   "execution_count": 24,
   "id": "b978f72710d32458",
   "metadata": {
    "ExecuteTime": {
     "end_time": "2024-03-15T20:58:50.563408Z",
     "start_time": "2024-03-15T20:58:50.546688Z"
    },
    "collapsed": false
   },
   "outputs": [],
   "source": [
    "aiplatform.init(project=PROJECT, location=REGION)"
   ]
  },
  {
   "cell_type": "code",
   "execution_count": 25,
   "id": "535918a4adade042",
   "metadata": {
    "ExecuteTime": {
     "end_time": "2024-03-15T20:58:50.596547Z",
     "start_time": "2024-03-15T20:58:50.583675Z"
    },
    "collapsed": false
   },
   "outputs": [],
   "source": [
    "pipeline_job = aiplatform.PipelineJob(\n",
    "    display_name = f\"{APPNAME}\",\n",
    "    template_path = compiled_package,\n",
    "    pipeline_root=PIPELINE_URI,\n",
    "    parameter_values = {\n",
    "        \"project\": PROJECT,\n",
    "        \"region\": REGION,\n",
    "    },\n",
    "    labels = {'notebook':f'{NOTEBOOK}'}\n",
    ")"
   ]
  },
  {
   "cell_type": "code",
   "execution_count": null,
   "id": "149c4a83f9474e2a",
   "metadata": {
    "ExecuteTime": {
     "end_time": "2024-03-15T20:58:50.608379Z",
     "start_time": "2024-03-15T20:58:50.590365Z"
    },
    "collapsed": false
   },
   "outputs": [],
   "source": [
    "SERVICE_ACCOUNT =\"vishalbarca1719@e2e-fraud-detection.iam.gserviceaccount.com\""
   ]
  },
  {
   "cell_type": "code",
   "execution_count": 27,
   "id": "1a6a1ba992bbdf86",
   "metadata": {
    "ExecuteTime": {
     "end_time": "2024-03-15T21:00:51.806549Z",
     "start_time": "2024-03-15T20:58:50.641157Z"
    },
    "collapsed": false
   },
   "outputs": [
    {
     "name": "stdout",
     "output_type": "stream",
     "text": [
      "Creating PipelineJob\n",
      "PipelineJob created. Resource name: projects/993073267534/locations/us-central1/pipelineJobs/fraud-detection-app-20240315155850\n",
      "To use this PipelineJob in another session:\n",
      "pipeline_job = aiplatform.PipelineJob.get('projects/993073267534/locations/us-central1/pipelineJobs/fraud-detection-app-20240315155850')\n",
      "View Pipeline Job:\n",
      "https://console.cloud.google.com/vertex-ai/locations/us-central1/pipelines/runs/fraud-detection-app-20240315155850?project=993073267534\n",
      "PipelineJob projects/993073267534/locations/us-central1/pipelineJobs/fraud-detection-app-20240315155850 current state:\n",
      "PipelineState.PIPELINE_STATE_RUNNING\n",
      "PipelineJob projects/993073267534/locations/us-central1/pipelineJobs/fraud-detection-app-20240315155850 current state:\n",
      "PipelineState.PIPELINE_STATE_RUNNING\n",
      "PipelineJob projects/993073267534/locations/us-central1/pipelineJobs/fraud-detection-app-20240315155850 current state:\n",
      "PipelineState.PIPELINE_STATE_RUNNING\n",
      "PipelineJob projects/993073267534/locations/us-central1/pipelineJobs/fraud-detection-app-20240315155850 current state:\n",
      "PipelineState.PIPELINE_STATE_RUNNING\n",
      "PipelineJob run completed. Resource name: projects/993073267534/locations/us-central1/pipelineJobs/fraud-detection-app-20240315155850\n"
     ]
    }
   ],
   "source": [
    "response = pipeline_job.run(\n",
    "    service_account = SERVICE_ACCOUNT,\n",
    "    #sync = True\n",
    ")"
   ]
  },
  {
   "cell_type": "code",
   "execution_count": 27,
   "id": "62cc9d29791298c9",
   "metadata": {
    "ExecuteTime": {
     "end_time": "2024-03-15T21:00:51.807732Z",
     "start_time": "2024-03-15T21:00:51.803887Z"
    },
    "collapsed": false
   },
   "outputs": [],
   "source": []
  }
 ],
 "metadata": {
  "kernelspec": {
   "display_name": "base",
   "language": "python",
   "name": "python3"
  },
  "language_info": {
   "codemirror_mode": {
    "name": "ipython",
    "version": 3
   },
   "file_extension": ".py",
   "mimetype": "text/x-python",
   "name": "python",
   "nbconvert_exporter": "python",
   "pygments_lexer": "ipython3",
   "version": "3.9.12"
  }
 },
 "nbformat": 4,
 "nbformat_minor": 5
}
